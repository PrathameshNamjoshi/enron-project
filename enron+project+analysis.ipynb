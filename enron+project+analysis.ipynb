{
 "cells": [
  {
   "cell_type": "markdown",
   "metadata": {},
   "source": [
    "# Project Overview\n",
    "In 2000, Enron was one of the largest companies in the United States. By 2002, it had collapsed into bankruptcy due to widespread corporate fraud. In the resulting Federal investigation, there was a significant amount of typically confidential information entered into public record, including tens of thousands of emails and detailed financial data for top executives.\n",
    "In this project I will build a person of interest identifier based on financial and email data made public as a result of the Enron scandal. I use email and financial data for 146 executives at Enron to identify persons of interest in the fraud case. A person of interest (POI) is someone who was indicted for fraud, settled with the government, or testified in exchange for immunity. This report documents the machine learning techniques used in building a POI identifier."
   ]
  },
  {
   "cell_type": "code",
   "execution_count": 253,
   "metadata": {},
   "outputs": [],
   "source": [
    "import sys\n",
    "import pickle\n",
    "import numpy as np\n",
    "from IPython.display import Image\n",
    "import matplotlib.pyplot as pl\n",
    "import pandas as pd\n",
    "import seaborn as sns\n",
    "from sklearn import preprocessing\n",
    "from sklearn.feature_selection import SelectKBest\n",
    "from sklearn.pipeline import Pipeline\n",
    "\n",
    "\n",
    "\n",
    "from sklearn import metrics\n",
    "sys.path.append(\"../tools/\")\n",
    "\n",
    "from sklearn.cross_validation import StratifiedShuffleSplit\n",
    "from feature_format import featureFormat, targetFeatureSplit\n",
    "from sklearn.cross_validation import train_test_split\n",
    "from tester import dump_classifier_and_data\n",
    "from sklearn.svm import SVC\n",
    "from sklearn.naive_bayes import GaussianNB\n",
    "from sklearn.tree import DecisionTreeClassifier\n",
    "from sklearn.ensemble import RandomForestClassifier\n",
    "from sklearn.decomposition import PCA\n",
    "from sklearn.grid_search import GridSearchCV\n",
    "\n",
    "#files containing written code\n",
    "\n",
    "from removeOutliers import removeOutliers\n",
    "from featuresAdd import featuresAdd\n",
    "from datasetOverview import datasetOverview\n",
    "from ParameterDictionary import Params_dict\n",
    "from GridSearchBestEstimation import EstimateBest"
   ]
  },
  {
   "cell_type": "code",
   "execution_count": 254,
   "metadata": {
    "collapsed": true
   },
   "outputs": [],
   "source": [
    "data_dict = pickle.load(open(\"final_project_dataset.pkl\", \"r\") )"
   ]
  },
  {
   "cell_type": "code",
   "execution_count": 255,
   "metadata": {},
   "outputs": [
    {
     "name": "stdout",
     "output_type": "stream",
     "text": [
      "There are  146  executives in Enron Dataset.\n"
     ]
    }
   ],
   "source": [
    "print \"There are \", len(data_dict.keys()), \" executives in Enron Dataset.\""
   ]
  },
  {
   "cell_type": "code",
   "execution_count": 256,
   "metadata": {},
   "outputs": [
    {
     "name": "stdout",
     "output_type": "stream",
     "text": [
      "['METTS MARK', 'BAXTER JOHN C', 'ELLIOTT STEVEN', 'CORDES WILLIAM R', 'HANNON KEVIN P', 'MORDAUNT KRISTINA M', 'MEYER ROCKFORD G', 'MCMAHON JEFFREY', 'HORTON STANLEY C', 'PIPER GREGORY F', 'HUMPHREY GENE E', 'UMANOFF ADAM S', 'BLACHMAN JEREMY M', 'SUNDE MARTIN', 'GIBBS DANA R', 'LOWRY CHARLES P', 'COLWELL WESLEY', 'MULLER MARK S', 'JACKSON CHARLENE R', 'WESTFAHL RICHARD K', 'WALTERS GARETH W', 'WALLS JR ROBERT H', 'KITCHEN LOUISE', 'CHAN RONNIE', 'BELFER ROBERT', 'SHANKMAN JEFFREY A', 'WODRASKA JOHN', 'BERGSIEKER RICHARD P', 'URQUHART JOHN A', 'BIBI PHILIPPE A', 'RIEKER PAULA H', 'WHALEY DAVID A', 'BECK SALLY W', 'HAUG DAVID L', 'ECHOLS JOHN B', 'MENDELSOHN JOHN', 'HICKERSON GARY J', 'CLINE KENNETH W', 'LEWIS RICHARD', 'HAYES ROBERT E', 'MCCARTY DANNY J', 'KOPPER MICHAEL J', 'LEFF DANIEL P', 'LAVORATO JOHN J', 'BERBERIAN DAVID', 'DETMERING TIMOTHY J', 'WAKEHAM JOHN', 'POWERS WILLIAM', 'GOLD JOSEPH', 'BANNANTINE JAMES M', 'DUNCAN JOHN H', 'SHAPIRO RICHARD S', 'SHERRIFF JOHN R', 'SHELBY REX', 'LEMAISTRE CHARLES', 'DEFFNER JOSEPH M', 'KISHKILL JOSEPH G', 'WHALLEY LAWRENCE G', 'MCCONNELL MICHAEL S', 'PIRO JIM', 'DELAINEY DAVID W', 'SULLIVAN-SHAKLOVITZ COLLEEN', 'WROBEL BRUCE', 'LINDHOLM TOD A', 'MEYER JEROME J', 'LAY KENNETH L', 'BUTTS ROBERT H', 'OLSON CINDY K', 'MCDONALD REBECCA', 'CUMBERLAND MICHAEL S', 'GAHN ROBERT S', 'MCCLELLAN GEORGE', 'HERMANN ROBERT J', 'SCRIMSHAW MATTHEW', 'GATHMANN WILLIAM D', 'HAEDICKE MARK E', 'BOWEN JR RAYMOND M', 'GILLIS JOHN', 'FITZGERALD JAY L', 'MORAN MICHAEL P', 'REDMOND BRIAN L', 'BAZELIDES PHILIP J', 'BELDEN TIMOTHY N', 'DURAN WILLIAM D', 'THORN TERENCE H', 'FASTOW ANDREW S', 'FOY JOE', 'CALGER CHRISTOPHER F', 'RICE KENNETH D', 'KAMINSKI WINCENTY J', 'LOCKHART EUGENE E', 'COX DAVID', 'OVERDYKE JR JERE C', 'PEREIRA PAULO V. FERRAZ', 'STABLER FRANK', 'SKILLING JEFFREY K', 'BLAKE JR. NORMAN P', 'SHERRICK JEFFREY B', 'PRENTICE JAMES', 'GRAY RODNEY', 'PICKERING MARK R', 'THE TRAVEL AGENCY IN THE PARK', 'NOLES JAMES L', 'KEAN STEVEN J', 'TOTAL', 'FOWLER PEGGY', 'WASAFF GEORGE', 'WHITE JR THOMAS E', 'CHRISTODOULOU DIOMEDES', 'ALLEN PHILLIP K', 'SHARP VICTORIA T', 'JAEDICKE ROBERT', 'WINOKUR JR. HERBERT S', 'BROWN MICHAEL', 'BADUM JAMES P', 'HUGHES JAMES A', 'REYNOLDS LAWRENCE', 'DIMICHELE RICHARD G', 'BHATNAGAR SANJAY', 'CARTER REBECCA C', 'BUCHANAN HAROLD G', 'YEAP SOON', 'MURRAY JULIA H', 'GARLAND C KEVIN', 'DODSON KEITH', 'YEAGER F SCOTT', 'HIRKO JOSEPH', 'DIETRICH JANET R', 'DERRICK JR. JAMES V', 'FREVERT MARK A', 'PAI LOU L', 'BAY FRANKLIN R', 'HAYSLETT RODERICK J', 'FUGH JOHN L', 'FALLON JAMES B', 'KOENIG MARK E', 'SAVAGE FRANK', 'IZZO LAWRENCE L', 'TILNEY ELIZABETH A', 'MARTIN AMANDA K', 'BUY RICHARD B', 'GRAMM WENDY L', 'CAUSEY RICHARD A', 'TAYLOR MITCHELL S', 'DONAHUE JR JEFFREY M', 'GLISAN JR BEN F']\n"
     ]
    }
   ],
   "source": [
    "print data_dict.keys()"
   ]
  },
  {
   "cell_type": "markdown",
   "metadata": {},
   "source": [
    "# Data Overview"
   ]
  },
  {
   "cell_type": "code",
   "execution_count": 257,
   "metadata": {
    "collapsed": true
   },
   "outputs": [],
   "source": [
    "def datasetOverview(data_dict):\n",
    "    \n",
    "    '''\n",
    "    This function outputs the number of data points and the\n",
    "    information about pois in the enron dataset\n",
    "    '''\n",
    "    persons = 0 \n",
    "    poi = 0\n",
    "    notpoi = 0\n",
    "    Nodataavailable=0\n",
    "    for key,value in data_dict.iteritems():\n",
    "        persons += 1\n",
    "        for key1,value1 in value.iteritems(): \n",
    "        \n",
    "            if key1 =='poi':\n",
    "                if value1 == True:\n",
    "                    poi += 1\n",
    "                elif value1 == False:\n",
    "                    notpoi += 1\n",
    "                \n",
    "                    \n",
    "    print('Total Number of people under consideration :'+str(persons))\n",
    "    print('Total Number of persons of interest under consideration :'+str(poi))\n",
    "    print('Total Number of people who are not poi :'+str(notpoi))\n",
    "            \n"
   ]
  },
  {
   "cell_type": "code",
   "execution_count": 258,
   "metadata": {},
   "outputs": [
    {
     "name": "stdout",
     "output_type": "stream",
     "text": [
      "Total Number of people under consideration :146\n",
      "Total Number of persons of interest under consideration :18\n",
      "Total Number of people who are not poi :128\n"
     ]
    }
   ],
   "source": [
    " #Some info about dataset\n",
    "datasetOverview(data_dict)\n",
    "    "
   ]
  },
  {
   "cell_type": "markdown",
   "metadata": {},
   "source": [
    "# Outlier Investigation\n",
    "First of all I would like to have a look at my data and check it for outliers.\n",
    "\n",
    "I plot salaries and bonuses on Enron employees and see an outlier in the data."
   ]
  },
  {
   "cell_type": "code",
   "execution_count": 259,
   "metadata": {
    "collapsed": true
   },
   "outputs": [],
   "source": [
    "def removeOutliers(data_dict):\n",
    "    '''\n",
    "    Function to remove spreadsheet outlier\n",
    "    \n",
    "    '''\n",
    "    \n",
    "    import matplotlib.pyplot as pl  #Import matplotlib to plot scatterplot\n",
    "    #plot salary vs bonus\n",
    "    for name in data_dict:\n",
    "\n",
    "        a=(data_dict[name]['salary'])\n",
    "\n",
    "        b=(data_dict[name]['bonus'])\n",
    "\n",
    "        pl.scatter(a,b)\n",
    "        pl.xlabel(\"salary\")\n",
    "        pl.ylabel(\"bonus\")  \n",
    "       \n",
    "\n",
    "    print 'Plot with outlier'\n",
    "\n",
    "    pl.show()\n",
    "   \n",
    "    print 'The \\'Total\\' outlier :'\n",
    "    \n",
    "    # the outlier above is a spreadsheet error!\n",
    "\n",
    "    print data_dict[\"TOTAL\"] \n",
    "    data_dict.pop('TOTAL')\n",
    "    print '\\nOutlier Removed'\n",
    "    print '\\nNew Plot:'\n",
    "   \n",
    "    # plot again after removal of outlier\n",
    "    \n",
    "    for name in data_dict:\n",
    "        a=(data_dict[name]['salary'])\n",
    "        b=(data_dict[name]['bonus'])\n",
    "        pl.scatter(a,b)\n",
    "    pl.show()\n",
    "    pl.xlabel(\"salary\")\n",
    "    pl.ylabel(\"bonus\")\n",
    "   \n",
    "    return data_dict\n",
    "   \n",
    "\n"
   ]
  },
  {
   "cell_type": "code",
   "execution_count": 260,
   "metadata": {},
   "outputs": [
    {
     "name": "stdout",
     "output_type": "stream",
     "text": [
      "Plot with outlier\n"
     ]
    },
    {
     "data": {
      "image/png": "[encoded data removed]",
      "text/plain": [
       "<matplotlib.figure.Figure at 0xfbb9da0>"
      ]
     },
     "metadata": {},
     "output_type": "display_data"
    },
    {
     "name": "stdout",
     "output_type": "stream",
     "text": [
      "The 'Total' outlier :\n",
      "{'salary': 26704229, 'to_messages': 'NaN', 'deferral_payments': 32083396, 'total_payments': 309886585, 'exercised_stock_options': 311764000, 'bonus': 97343619, 'restricted_stock': 130322299, 'shared_receipt_with_poi': 'NaN', 'restricted_stock_deferred': -7576788, 'total_stock_value': 434509511, 'expenses': 5235198, 'loan_advances': 83925000, 'from_messages': 'NaN', 'other': 42667589, 'from_this_person_to_poi': 'NaN', 'poi': False, 'director_fees': 1398517, 'deferred_income': -27992891, 'long_term_incentive': 48521928, 'email_address': 'NaN', 'from_poi_to_this_person': 'NaN'}\n",
      "\n",
      "Outlier Removed\n",
      "\n",
      "New Plot:\n"
     ]
    },
    {
     "data": {
      "image/png": "[encoded data removed]",
      "text/plain": [
       "<matplotlib.figure.Figure at 0xce729b0>"
      ]
     },
     "metadata": {},
     "output_type": "display_data"
    }
   ],
   "source": [
    "data_dict = removeOutliers(data_dict)\n"
   ]
  },
  {
   "cell_type": "markdown",
   "metadata": {},
   "source": [
    "# New Feature\n",
    "Persons of interest may have strong email connections. POIs might send emails to other POIs at a higher rate than the rest of the population. For this reason, let's create two new features: one that represents the fraction of emails that a person sent to POIs, and another feature that represents the fraction of emails that a person received from POIs."
   ]
  },
  {
   "cell_type": "code",
   "execution_count": 261,
   "metadata": {
    "collapsed": true
   },
   "outputs": [],
   "source": [
    "def computeFraction(poi_messages, all_messages):\n",
    "    \"\"\" given a number messages to/from POI (numerator) \n",
    "        and number of all messages to/from a person (denominator),\n",
    "        return the fraction of messages to/from that person\n",
    "        that are from/to a POI\n",
    "   \"\"\"\n",
    "    fraction = 0.\n",
    "    \n",
    "    if poi_messages=='NaN' or all_messages=='NaN':\n",
    "        fraction = 0.\n",
    "    else:  \n",
    "        fraction=float(poi_messages)/float(all_messages)\n",
    "\n",
    "    return fraction\n",
    "\n",
    "\n",
    "for name in data_dict:\n",
    "\n",
    "    data_point = data_dict[name]\n",
    "\n",
    "    from_poi_to_this_person = data_point[\"from_poi_to_this_person\"]\n",
    "    to_messages = data_point[\"to_messages\"]\n",
    "    fraction_from_poi = computeFraction( from_poi_to_this_person, to_messages )\n",
    "    data_point[\"fraction_from_poi\"] = fraction_from_poi\n",
    "\n",
    "\n",
    "    from_this_person_to_poi = data_point[\"from_this_person_to_poi\"]\n",
    "    from_messages = data_point[\"from_messages\"]\n",
    "    fraction_to_poi = computeFraction( from_this_person_to_poi, from_messages )\n",
    "    data_point[\"fraction_to_poi\"] = fraction_to_poi"
   ]
  },
  {
   "cell_type": "code",
   "execution_count": 262,
   "metadata": {
    "collapsed": true
   },
   "outputs": [],
   "source": [
    "fraction_to_poi=[data_dict[key][\"fraction_to_poi\"] for key in data_dict]\n",
    "fraction_from_poi=[data_dict[key][\"fraction_from_poi\"] for key in data_dict]\n",
    "poi=[data_dict[key][\"poi\"]==1 for key in data_dict]"
   ]
  },
  {
   "cell_type": "markdown",
   "metadata": {},
   "source": [
    "Let's create a scatter plot with the fraction of emails the person received from POIs against the fraction of emails the person sent to POIs."
   ]
  },
  {
   "cell_type": "code",
   "execution_count": 263,
   "metadata": {},
   "outputs": [
    {
     "data": {
      "image/png": "[encoded data removed]",
      "text/plain": [
       "<matplotlib.figure.Figure at 0xfbc6c50>"
      ]
     },
     "metadata": {},
     "output_type": "display_data"
    }
   ],
   "source": [
    "for i in range(len(poi)):\n",
    "    if poi[i]==1:\n",
    "        plt.scatter(fraction_from_poi[i],fraction_to_poi[i],c='red',s=50)\n",
    "    else:\n",
    "        plt.scatter(fraction_from_poi[i],fraction_to_poi[i],c='green',s=50)\n",
    "plt.xlabel('Fraction of emails the person received from a POI') \n",
    "plt.ylabel('Fraction of emails the person sent to a POI') \n",
    "plt.show()"
   ]
  },
  {
   "cell_type": "markdown",
   "metadata": {},
   "source": [
    "# Choosing and tuning the algorithm"
   ]
  },
  {
   "cell_type": "code",
   "execution_count": 264,
   "metadata": {
    "collapsed": true
   },
   "outputs": [],
   "source": [
    "def Params_dict(classifiers):\n",
    "    ''''\n",
    "    In this function a dictionary has been created about the parameters which \n",
    "    would be passed for each classsifier during the 'grid search'.\n",
    "    '''\n",
    "   \n",
    "   # This list will be common to all classifiers and includes parameters passed for PCA \n",
    "   # and for slecting K best features from feature_list  \n",
    "\n",
    "    featureParamList = dict( reduce__n_components=np.arange(1,4),\n",
    "                               reduce__whiten =[True, \n",
    "                                                     False],\n",
    "                               reduce__svd_solver =['auto', \n",
    "                                                         'full', \n",
    "                                                         'arpack', \n",
    "                                                         'randomized'],\n",
    "                               selectK__k =[5,10,15])\n",
    "    #parameters for SVC\n",
    "    svcParam = dict(clf__C = [0.0001, \n",
    "                                0.001, \n",
    "                                0.01, \n",
    "                                0.1, \n",
    "                                1,10],\n",
    "                          clf__gamma = [0.0005, \n",
    "                                        0.001, \n",
    "                                        0.005, \n",
    "                                        0.01, \n",
    "                                        0.1],\n",
    "                          clf__kernel= ['rbf','linear'], \n",
    "                          clf__class_weight = ['balanced', \n",
    "                                               None])\n",
    "    \n",
    "    #parameters for DecisionTree\n",
    "    decisionTreeParam = dict(clf__criterion = ['gini', \n",
    "                                                  'entropy'],\n",
    "                                clf__max_features = ['sqrt', \n",
    "                                                     'log2', \n",
    "                                                     None],\n",
    "                            clf__random_state=[56])\n",
    "    #Parameters for RandomForest\n",
    "    randomForestParam = dict(clf__n_estimators = np.arange(10, 30 ,10),\n",
    "                                 clf__criterion = ['gini', \n",
    "                                                   'entropy'],\n",
    "                                 clf__max_features = ['sqrt', \n",
    "                                                      'log2', \n",
    "                                                      None],\n",
    "                                 clf__class_weight = ['balanced', \n",
    "                                                      None],\n",
    "                                clf__random_state = [56])\n",
    "    \n",
    "    algoParametersList=[svcParam,decisionTreeParam,randomForestParam]\n",
    "    \n",
    "    \n",
    "    ''' (In Main function)\n",
    "    \n",
    "     classifiers = [SVC(),\n",
    "                   DecisionTreeClassifier(),\n",
    "                   RandomForestClassifier(),\n",
    "                   GaussianNB()]\n",
    "    '''\n",
    "    parameterDict={}\n",
    "    #Avoiding GaussianNB in classifiers list in main function as it does not have its own parameters to tune hence -1\n",
    "    for i,_ in  enumerate(classifiers[:-1]) :    \n",
    "        \n",
    "        algoParametersList[i].update(featureParamList)\n",
    "        parameterDict.update({type(classifiers[i]):algoParametersList[i]})\n",
    "\n",
    "    #for Gaussian Naive Bayes\n",
    "    parameterDict.update({type(classifiers[3]):featureParamList})\n",
    "    \n",
    "    return parameterDict\n",
    "\n",
    "\n",
    "\n",
    "def EstimateBest(classifier,params_list, cross_val, my_dataset, features_list,\n",
    "                   features_train, labels_train, features_test, labels_test):\n",
    "    \n",
    "    \n",
    "    parameterlist=params_list[type(classifier)]\n",
    "\n",
    "    print('\\n'+str(type(classifier)))\n",
    "    \n",
    "    print('\\n wait....')\n",
    "\n",
    "    # Create pipeline and pass the series of operations we expect to take place with a classifier at the end.\n",
    "    \n",
    "    estimators = [('scaler', preprocessing.MinMaxScaler()),\n",
    "                  ('selectK', SelectKBest()),\n",
    "                  ('reduce', PCA()), \n",
    "                  ('clf', classifier)]\n",
    "    pipe = Pipeline(estimators) \n",
    "    \n",
    "    #GridSearch algorithm to tune the dataset\n",
    "    \n",
    "    grid = GridSearchCV(pipe, \n",
    "                        param_grid = parameterlist, \n",
    "                        scoring = 'f1',\n",
    "                        cv = cross_val)\n",
    "\n",
    "    \n",
    "    grid.fit(features_train, labels_train)\n",
    "    \n",
    "    #select the predictions of best_estimator classifier selected on basis of f1 scoring\n",
    "    \n",
    "    pred = grid.best_estimator_.predict(features_test)\n",
    "    \n",
    "    clf=grid.best_estimator_\n",
    "\n",
    "    clf.fit(features_train, labels_train)\n",
    "\n",
    "    pred = clf.predict(features_test)\n",
    "\n",
    "    \n",
    "    acc = clf.score(features_test, labels_test)\n",
    "    prec = metrics.precision_score(labels_test, pred)\n",
    "    rcl = metrics.recall_score(labels_test, pred)\n",
    "    f1score = metrics.f1_score(labels_test, pred)\n",
    "\n",
    "    print ('\\n {} \\n Accuracy = {} \\n Precision = {} \\n Recall = {} \\n F1 Score = {} ').format(type(clf),\n",
    "                                                                                         str(acc),\n",
    "                                                                                         str(prec),str(rcl),str(f1score))\n",
    "\n",
    "\n",
    "    #Show features selected for best_estimator and their weightage respectively\n",
    "    \n",
    "    feature_yesno = clf.named_steps['selectK'].get_support()\n",
    "    \n",
    "    #feature_yesno is a list of booleans correspoinding to the fearures list, where \n",
    "    # 1 represents feature selected and 0 represents feature rejected in best_estimator\n",
    "    \n",
    "    feature_weightage = clf.named_steps['selectK'].scores_\n",
    "    print ('\\n Feature:Weightage')\n",
    "    \n",
    "    for i in range(len(features_list)-1): \n",
    "        # since 'poi' is label and not feature we use 'length - 1'\n",
    "        if feature_yesno[i]:\n",
    "            print ('\\n {}:{}').format(features_list[i+1],feature_weightage[i]) #since 'poi' is label and not feature we use i+1\n",
    "\n",
    "    \n",
    "    return clf\n"
   ]
  },
  {
   "cell_type": "markdown",
   "metadata": {},
   "source": [
    "# Validation strategy and evluation metrics"
   ]
  },
  {
   "cell_type": "markdown",
   "metadata": {},
   "source": [
    "To assess the performance of our algorithm we will look at two evaluation metrics:\n",
    "\n",
    "Precision = true positives/(true positives + false positives)\n",
    "\n",
    "Recall = true positives/(true positives + false negatives)\n",
    "\n",
    "There’s usually a tradeoff between precision and recall. Sometimes the identifier doesn't have great precision, but it does have good recall. That means that, nearly every time a POI shows up in the test set, we are able to identify him or her. The cost of this is that we sometimes get some false positives, where non-POI get flagged.\n",
    "\n",
    "Sometimes, instead, the identifier doesn't have a great recall, but it does have good precision. That means that whenever a POI gets flagged in the test set, we know with a lot of confidence that it's very likely to be a real POI and not a false alarm.\n",
    "On the other hand, the price we pay for this is that we sometimes miss real POIs, since we are reclucant to pull the trigger on edge cases.\n",
    "\n",
    "For this project we want that precision and recall are both at least 0.3."
   ]
  },
  {
   "cell_type": "code",
   "execution_count": 265,
   "metadata": {},
   "outputs": [
    {
     "name": "stdout",
     "output_type": "stream",
     "text": [
      "Plot with outlier\n"
     ]
    },
    {
     "data": {
      "image/png": "[encoded data removed]",
      "text/plain": [
       "<matplotlib.figure.Figure at 0xc69e128>"
      ]
     },
     "metadata": {},
     "output_type": "display_data"
    },
    {
     "name": "stdout",
     "output_type": "stream",
     "text": [
      "The 'Total' outlier :\n",
      "{'salary': 26704229, 'to_messages': 'NaN', 'deferral_payments': 32083396, 'total_payments': 309886585, 'exercised_stock_options': 311764000, 'bonus': 97343619, 'restricted_stock': 130322299, 'shared_receipt_with_poi': 'NaN', 'restricted_stock_deferred': -7576788, 'total_stock_value': 434509511, 'expenses': 5235198, 'loan_advances': 83925000, 'from_messages': 'NaN', 'other': 42667589, 'from_this_person_to_poi': 'NaN', 'poi': False, 'director_fees': 1398517, 'deferred_income': -27992891, 'long_term_incentive': 48521928, 'email_address': 'NaN', 'from_poi_to_this_person': 'NaN'}\n",
      "\n",
      "Outlier Removed\n",
      "\n",
      "New Plot:\n"
     ]
    },
    {
     "data": {
      "image/png": "[encoded data removed]",
      "text/plain": [
       "<matplotlib.figure.Figure at 0x103cd898>"
      ]
     },
     "metadata": {},
     "output_type": "display_data"
    },
    {
     "name": "stdout",
     "output_type": "stream",
     "text": [
      "Total Number of people under consideration :145\n",
      "Total Number of persons of interest under consideration :18\n",
      "Total Number of people who are not poi :127\n",
      "\n",
      " <class 'sklearn.svm.classes.SVC'> \n",
      " Accuracy = 0.886363636364 \n",
      " Precision =0.0 \n",
      " Recall = 0.0 \n",
      " F1 Score = 0.0\n",
      "\n",
      " <class 'sklearn.tree.tree.DecisionTreeClassifier'> \n",
      " Accuracy = 0.840909090909 \n",
      " Precision =0.25 \n",
      " Recall = 0.2 \n",
      " F1 Score = 0.222222222222\n",
      "\n",
      " <class 'sklearn.ensemble.forest.RandomForestClassifier'> \n",
      " Accuracy = 0.886363636364 \n",
      " Precision =0.0 \n",
      " Recall = 0.0 \n",
      " F1 Score = 0.0\n",
      "\n",
      " <class 'sklearn.naive_bayes.GaussianNB'> \n",
      " Accuracy = 0.818181818182 \n",
      " Precision =0.2 \n",
      " Recall = 0.2 \n",
      " F1 Score = 0.2\n",
      "\n",
      " After Tuning\n",
      "\n",
      "<class 'sklearn.naive_bayes.GaussianNB'>\n",
      "\n",
      " wait....\n",
      "\n",
      " <class 'sklearn.pipeline.Pipeline'> \n",
      " Accuracy = 0.886363636364 \n",
      " Precision = 0.5 \n",
      " Recall = 0.4 \n",
      " F1 Score = 0.444444444444 \n",
      "\n",
      " Feature:Weightage\n",
      "\n",
      " salary:15.5109752518\n",
      "\n",
      " total_payments:6.99029648936\n",
      "\n",
      " exercised_stock_options:20.1830072583\n",
      "\n",
      " bonus:11.4236716964\n",
      "\n",
      " restricted_stock:9.39062258849\n",
      "\n",
      " total_stock_value:20.0609062192\n",
      "\n",
      " loan_advances:7.0944028545\n",
      "\n",
      " deferred_income:16.7645091391\n",
      "\n",
      " long_term_incentive:7.5300158219\n",
      "\n",
      " proportion_of_poi_mssgs:5.53616541445\n",
      "\n",
      " Selected classifier is:\n",
      "Pipeline(memory=None,\n",
      "     steps=[('scaler', MinMaxScaler(copy=True, feature_range=(0, 1))), ('selectK', SelectKBest(k=10, score_func=<function f_classif at 0x0000000008E167B8>)), ('reduce', PCA(copy=True, iterated_power='auto', n_components=3, random_state=None,\n",
      "  svd_solver='auto', tol=0.0, whiten=True)), ('clf', GaussianNB(priors=None))])\n",
      "\tAccuracy: 0.83680\tPrecision: 0.36522\tRecall: 0.30350\tF1: 0.33151\tF2: 0.31412\n",
      "\tTotal predictions: 15000\tTrue positives:  607\tFalse positives: 1055\tFalse negatives: 1393\tTrue negatives: 11945\n",
      "\n"
     ]
    }
   ],
   "source": [
    "\n",
    "def main():\n",
    "    \n",
    "    \n",
    "    features_list = ['poi', 'salary', 'to_messages', 'deferral_payments',\n",
    "                     'total_payments', 'exercised_stock_options', 'bonus',\n",
    "                     'restricted_stock', 'shared_receipt_with_poi',\n",
    "                     'restricted_stock_deferred', 'total_stock_value',\n",
    "                     'expenses', 'loan_advances', 'from_messages', 'other',\n",
    "                     'from_this_person_to_poi', 'director_fees', 'deferred_income',\n",
    "                     'long_term_incentive', 'from_poi_to_this_person','proportion_of_poi_mssgs'] \n",
    "\n",
    "    #Open datafile as dictionary\n",
    "    with open(\"final_project_dataset.pkl\", \"r\") as data_file:\n",
    "        data_dict = pickle.load(data_file)\n",
    "\n",
    "    #Remove Outliers\n",
    "    data_dict = removeOutliers(data_dict)\n",
    "    \n",
    "    #Some info about dataset\n",
    "    datasetOverview(data_dict)\n",
    "    \n",
    "    #Add some required features\n",
    "    data_dict = featuresAdd(data_dict)\n",
    "    \n",
    "    \n",
    "    data = featureFormat(data_dict, features_list, sort_keys = True)\n",
    "    labels, features = targetFeatureSplit(data)\n",
    "\n",
    "    #Simple train test split\n",
    "    features_train, features_test, labels_train, labels_test =     train_test_split(features, labels, test_size=0.3, random_state=56)\n",
    "\n",
    "\n",
    "    classifiers = [SVC(),\n",
    "                   DecisionTreeClassifier(random_state=60),\n",
    "                   RandomForestClassifier(random_state=60),\n",
    "                   GaussianNB()]\n",
    "\n",
    "    #iterator to run all classifers on the data\n",
    "    \n",
    "    for clf in classifiers:\n",
    "        clf.fit(features_train, labels_train)\n",
    "        pred = clf.predict(features_test)\n",
    "\n",
    "        #display metrics of each classifier through iteration\n",
    "        acc = clf.score(features_test, labels_test)\n",
    "        prec = metrics.precision_score(labels_test, pred)\n",
    "        rcl = metrics.recall_score(labels_test, pred)\n",
    "        f1score= metrics.f1_score(labels_test, pred)\n",
    "\n",
    "\n",
    "\n",
    "        print ('\\n {} \\n Accuracy = {} \\n Precision ={} \\n Recall = {} \\n F1 Score = {}').format(type(clf),\n",
    "                                                                                             str(acc),\n",
    "                                                                                             str(prec),str(rcl),str(f1score))\n",
    "\n",
    "\n",
    "\n",
    "    #A better way to split daat used for final classifier\n",
    "    crossvalidate = StratifiedShuffleSplit(labels_train, random_state = 42)\n",
    "\n",
    "    parameter_dict=Params_dict(classifiers)\n",
    "\n",
    "    '''\n",
    "    uncomment to check for any of the algorithm\n",
    "    '''\n",
    "    print('\\n After Tuning')\n",
    "    classifier = EstimateBest(GaussianNB(), parameter_dict, crossvalidate, data_dict, features_list,\n",
    "                 features_train, labels_train, features_test, labels_test)\n",
    "    '''\n",
    "    <class 'sklearn.pipeline.Pipeline'> \n",
    "    \n",
    "     using inbuilt funtions:\n",
    "     Accuracy = 0.886363636364 \n",
    "     Precision = 0.5 \n",
    "     Recall = 0.4 \n",
    "     F1 Score = 0.444444444444\n",
    "     \n",
    "     using tester.py:\n",
    "      Accuracy: 0.83680\tPrecision: 0.36522\tRecall: 0.30350\tF1: 0.33151\tF2: 0.31412          \n",
    "    '''\n",
    "    \n",
    "\n",
    "    #UNCOMMENT TO RUN EACH\n",
    "\n",
    "    #classifier = EstimateBest(DecisionTreeClassifier(), parameter_dict, crossvalidate, data_dict, features_list,\n",
    "                #features_train,labels_train, features_test, labels_test)\n",
    "    ''' \n",
    "    <class 'sklearn.pipeline.Pipeline'>\n",
    "    \n",
    "      using inbuilt funtions:\n",
    "      Accuracy = 0.795454545455 \n",
    "      Precision = 0.166666666667 \n",
    "      Recall = 0.2 \n",
    "      F1 Score = 0.181818181818\n",
    "      \n",
    "      by using tester.py :\n",
    "      Accuracy: 0.80093\tPrecision: 0.23090\tRecall: 0.21150\tF1: 0.22077\n",
    "\n",
    "    '''\n",
    "    #excessively high time for random forest grid search!\n",
    "    \n",
    "    #classifier = EstimateBest(RandomForestClassifier(), parameter_dict, crossvalidate, data_dict, features_list,\n",
    "     #            features_train, labels_train, features_test, labels_test)\n",
    "    '''\n",
    "    <class 'sklearn.pipeline.Pipeline'>\n",
    "    \n",
    "     using inbuilt functions:\n",
    "      Accuracy = 0.795454545455 \n",
    "      Precision = 0.166666666667 \n",
    "      Recall = 0.2 \n",
    "      F1 Score = 0.181818181818 \n",
    "      \n",
    "      by using tester.py :\n",
    "      Accuracy: 0.80473\tPrecision: 0.22596\tRecall: 0.19150\tF1: 0.20731\tF2: 0.19752\n",
    "    '''\n",
    "\n",
    "    print('\\n Selected classifier is:')\n",
    "\n",
    "    dump_classifier_and_data(classifier, data_dict, features_list)\n",
    "    import tester\n",
    "    tester.main()\n",
    "\n",
    "    \n",
    "if __name__ == '__main__':\n",
    "    main()\n",
    "    \n"
   ]
  },
  {
   "cell_type": "markdown",
   "metadata": {},
   "source": [
    "# Conclusions"
   ]
  },
  {
   "cell_type": "markdown",
   "metadata": {},
   "source": [
    "SelectKbest method was used in tuning the parameters.\n",
    "I chose the Gaussian Naive Bayes Algorithm since it gave the highest precision of 0.4 after tuning with given parameters.\n",
    "\n",
    "My final model was with GaussianNB() classifier, though I have also mentioned RandomForest and DecisionTree Classifiers in the code. So I tuned the parameters of my choice by using a ‘Grid Search’ method which went through all the permutations and\n",
    "combinations of the parameters which were provided as a dictionary to the GridSearchCV() function.\n",
    "For random forest and decision tree, both the methods of calculation were tried i.e. ‘gini’ and ‘entropy’.\n",
    "Random forests were created using 10,20,30,40 estimators respectively in grid search.\n",
    "No specific weights were given to any classes For both classifiers maximum features to be used were set to sqrt(n) and log2(n) where n is the total number of features.\n",
    "\n",
    "For the selected algorithm ‘Gaussian Naive Bayes’ , the following four metrics were found out:\n",
    "Precision = 0.365\n",
    "\n",
    "Recall = 0.303\n",
    "\n",
    "F1 Score = 0.331\n",
    "\n",
    "A precision of 0.365 is the proportion of people ‘correctly’ recognised as ‘poi’ out of total people\n",
    "recognised as ‘poi’\n",
    "\n",
    "A recall of 0.303 is the proportion of people ‘correctly’ recognised as ‘poi’ out of the people who\n",
    "were ‘actually’ poi.\n",
    "\n",
    "F1 score is nothing but the weighted average of the precision and recall metrics."
   ]
  },
  {
   "cell_type": "markdown",
   "metadata": {},
   "source": [
    "More detailed conclusions and analysis have been made in the pdf attached below."
   ]
  }
 ],
 "metadata": {
  "kernelspec": {
   "display_name": "Python 2",
   "language": "python",
   "name": "python2"
  },
  "language_info": {
   "codemirror_mode": {
    "name": "ipython",
    "version": 2
   },
   "file_extension": ".py",
   "mimetype": "text/x-python",
   "name": "python",
   "nbconvert_exporter": "python",
   "pygments_lexer": "ipython2",
   "version": "2.7.13"
  }
 },
 "nbformat": 4,
 "nbformat_minor": 2
}
